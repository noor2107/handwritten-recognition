{
 "cells": [
  {
   "cell_type": "code",
   "execution_count": 1,
   "metadata": {
    "executionInfo": {
     "elapsed": 8,
     "status": "ok",
     "timestamp": 1622402712179,
     "user": {
      "displayName": "Noor Hasan",
      "photoUrl": "https://lh3.googleusercontent.com/a-/AOh14Gj7lxRPJuwLV66xe0VJ5fqWdqGMi4NNtTZ5tOWcMw=s64",
      "userId": "08277835179188307769"
     },
     "user_tz": -360
    },
    "id": "1F7H56wruGBO"
   },
   "outputs": [],
   "source": [
    "import numpy\n",
    "import scipy.special\n",
    "import matplotlib.pyplot\n",
    "%matplotlib inline\n",
    "\n",
    "# neural network class definition\n",
    "\n",
    "class neuralNetwork:\n",
    "    # initialise the neural network \n",
    "    def __init__(self, inputnodes, hiddennodes, outputnodes, learningrate):\n",
    "        \n",
    "        # set number of nodes in each input, hidden, output nodes\n",
    "        self.inodes = inputnodes\n",
    "        self.hnodes = hiddennodes\n",
    "        self.onodes = outputnodes\n",
    "        \n",
    "        # link weight matrices, wih and who\n",
    "        # weights inside the arrays are w_i_j, where link is from node i to node j in the next layer \n",
    "        # w11 w21\n",
    "        # w12 w22 etc\n",
    "        # numpy.random.normal(loc,scale,size)\n",
    "        # loc = (Mean) where the peak of the bell exists.\n",
    "        # scale = (Standard Deviation) how flat the graph distribution should be.\n",
    "        # size = The shape of the returned array.\n",
    "        \n",
    "        self.wih = numpy.random.normal(0.0, pow(self.hnodes, -0.5), (self.hnodes, self.inodes))\n",
    "        self.who = numpy.random.normal(0.0, pow(self.onodes, -0.5), (self.onodes, self.hnodes))\n",
    "        \n",
    "        # learning rate\n",
    "        self.lr = learningrate \n",
    "        \n",
    "        # activition function is the sigmoid function\n",
    "        self.activation_function = lambda x: scipy.special.expit(x)\n",
    "\n",
    "        pass\n",
    "    \n",
    "    # train the neural network\n",
    "    def train(self, inputs_list, targets_list):\n",
    "        # convert inputs list to 2d array\n",
    "        inputs = numpy.array(inputs_list, ndmin = 2).T\n",
    "        targets = numpy.array(targets_list, ndmin = 2).T\n",
    "        \n",
    "        # calculate signals into hidden layer\n",
    "        hidden_inputs = numpy.dot(self.wih, inputs) \n",
    "        # calculate the signals emerging from hidden layer\n",
    "        hidden_outputs = self.activation_function(hidden_inputs)\n",
    "        \n",
    "        # calculate the signals into final output layer\n",
    "        final_inputs = numpy.dot(self.who, hidden_outputs)\n",
    "        # calculate the signals emerging from final output layer\n",
    "        final_outputs = self.activation_function(final_inputs)\n",
    "        \n",
    "        # error is (target - actual)\n",
    "        output_errors = targets - final_outputs\n",
    "        # hidden layer error is output_errors, split by weights, recombined at hidden nodes\n",
    "        hidden_errors = numpy.dot(self.who.T, output_errors)\n",
    "        \n",
    "        # update the weights for the links between the hidden and output layers \n",
    "        self.who += self.lr * numpy.dot((output_errors * final_outputs * (1.0-final_outputs)), numpy.transpose(hidden_outputs))\n",
    "        \n",
    "        # update the weights for the links between the input and hidden layer\n",
    "        self.wih += self.lr * numpy.dot((hidden_errors * hidden_outputs * (1.0-hidden_outputs)), numpy.transpose(inputs))\n",
    "        \n",
    "        pass\n",
    "    \n",
    "    # query the neural netwrok \n",
    "    def query(self, inputs_list):\n",
    "        # convert inputs list to 2d array\n",
    "        inputs = numpy.array(inputs_list, ndmin = 2).T\n",
    "        \n",
    "        #calculate signals into hidden layers \n",
    "        hidden_inputs = numpy.dot(self.wih, inputs)\n",
    "        # calculate the signals emerging from hidden layer\n",
    "        hidden_outputs = self.activation_function(hidden_inputs)\n",
    "        \n",
    "        # calculate signals into final output layer\n",
    "        final_inputs = numpy.dot(self.who, hidden_outputs)\n",
    "        # calculate the signals emerging from final output layer\n",
    "        final_outputs = self.activation_function(final_inputs)\n",
    "        \n",
    "        return final_outputs\n",
    "        \n",
    "    "
   ]
  },
  {
   "cell_type": "code",
   "execution_count": 2,
   "metadata": {
    "executionInfo": {
     "elapsed": 488,
     "status": "ok",
     "timestamp": 1622402716260,
     "user": {
      "displayName": "Noor Hasan",
      "photoUrl": "https://lh3.googleusercontent.com/a-/AOh14Gj7lxRPJuwLV66xe0VJ5fqWdqGMi4NNtTZ5tOWcMw=s64",
      "userId": "08277835179188307769"
     },
     "user_tz": -360
    },
    "id": "l15RY7BKuGBb"
   },
   "outputs": [],
   "source": [
    "# number of input, hidden and output nodes\n",
    "input_nodes = 784\n",
    "hidden_nodes = 200\n",
    "output_nodes = 10\n",
    "\n",
    "# learning rate\n",
    "learning_rate = 0.1\n",
    "\n",
    "# create instance of neural network\n",
    "n = neuralNetwork(input_nodes, hidden_nodes, output_nodes, learning_rate)"
   ]
  },
  {
   "cell_type": "code",
   "execution_count": 3,
   "metadata": {
    "colab": {
     "base_uri": "https://localhost:8080/",
     "height": 214
    },
    "executionInfo": {
     "elapsed": 27,
     "status": "error",
     "timestamp": 1622402721257,
     "user": {
      "displayName": "Noor Hasan",
      "photoUrl": "https://lh3.googleusercontent.com/a-/AOh14Gj7lxRPJuwLV66xe0VJ5fqWdqGMi4NNtTZ5tOWcMw=s64",
      "userId": "08277835179188307769"
     },
     "user_tz": -360
    },
    "id": "WiS6uUPjuGBc",
    "outputId": "0819e2d1-ecf9-4825-f275-b985ec118254"
   },
   "outputs": [],
   "source": [
    "# load the mnist training data CSV file into a list \n",
    "training_data_file = open(\"mnist_train.csv\", 'r')\n",
    "training_data_list = training_data_file.readlines()\n",
    "training_data_file.close()"
   ]
  },
  {
   "cell_type": "code",
   "execution_count": 4,
   "metadata": {
    "id": "6Npin4qvuGBf"
   },
   "outputs": [],
   "source": [
    "#train the neural network\n",
    "\n",
    "# go through all the records in training data set\n",
    "epochs = 10\n",
    "\n",
    "for e in range(epochs):\n",
    "    for records in training_data_list:\n",
    "        # split the records by the ',' commas \n",
    "        all_values = records.split(',')\n",
    "        # scale and shift the input\n",
    "        inputs = (numpy.asfarray(all_values[1:]) / 255.0 * 0.99) + 0.01\n",
    "        # create the target output values (all 0.01, except the desired label which is 0.99)\n",
    "        targets = numpy.zeros(output_nodes) + 0.01 \n",
    "        # all_values[0] is the target label for this record \n",
    "        targets[int(all_values[0])] = 0.99\n",
    "        n.train(inputs, targets)\n",
    "        pass\n",
    "\n"
   ]
  },
  {
   "cell_type": "code",
   "execution_count": 5,
   "metadata": {
    "id": "ktMm9DEquGBh"
   },
   "outputs": [],
   "source": [
    "test_data_file = open(\"mnist_test.csv\", 'r')\n",
    "test_data_list = test_data_file.readlines()\n",
    "test_data_file.close()"
   ]
  },
  {
   "cell_type": "code",
   "execution_count": 104,
   "metadata": {
    "id": "v1_rWZwguGBj",
    "outputId": "60f58ef3-4826-41d4-fa3c-4d74a2a47928"
   },
   "outputs": [],
   "source": [
    "# test the neural network \n",
    "\n",
    "# scorecard for how well the network performs, initially empty\n",
    "scorecard = []\n",
    "\n",
    "# go through all the records in the data set\n",
    "\n",
    "for record in test_data_list:\n",
    "    # split the record by the ',' commas\n",
    "    all_values = record.split(',')\n",
    "    # correct answer is first value \n",
    "    correct_label = int(all_values[0])\n",
    "    #print(correct_label, \"correct label\")\n",
    "    # scale and shift the input\n",
    "    inputs = (numpy.asfarray(all_values[1:]) / 255.0 * 0.99) + 0.01\n",
    "    # query the network\n",
    "    outputs = n.query(inputs)\n",
    "    # the index of the highest value corresponds to the label \n",
    "    label = numpy.argmax(outputs)\n",
    "    #print(label, \"network's answer\")\n",
    "    # append the correct or incorrect to the list \n",
    "    if (label == correct_label):\n",
    "        # network's answer matches correct answer, add 1 to the scorecard\n",
    "        scorecard.append(1)\n",
    "    else:\n",
    "        # network's answer doesn't match correct answer, add 0 to the scorecard\n",
    "        scorecard.append(0)\n",
    "        pass\n",
    "    pass\n",
    "  \n",
    "\n",
    "\n",
    "    \n",
    "    "
   ]
  },
  {
   "cell_type": "code",
   "execution_count": 7,
   "metadata": {
    "id": "TxGRSspMuGBr",
    "outputId": "b507f08d-dee4-4b2a-bf36-0849a8de2350"
   },
   "outputs": [
    {
     "name": "stdout",
     "output_type": "stream",
     "text": [
      "Performance 0.9754\n"
     ]
    }
   ],
   "source": [
    "scorecard_array = numpy.asarray(scorecard)\n",
    "print(\"Performance\", scorecard_array.sum() / scorecard_array.size)"
   ]
  },
  {
   "cell_type": "code",
   "execution_count": null,
   "metadata": {
    "id": "BNz5uXnNuGBs"
   },
   "outputs": [],
   "source": [
    "# for learning rate 0.06, hidden nodes = 100\n",
    "# performance: 0.946"
   ]
  },
  {
   "cell_type": "code",
   "execution_count": null,
   "metadata": {
    "id": "BR_b9ddvuGBs"
   },
   "outputs": [],
   "source": [
    "# for learning rate 0.03 , hidden nodes = 100\n",
    "# performance: 0.9389"
   ]
  },
  {
   "cell_type": "code",
   "execution_count": null,
   "metadata": {
    "id": "FcY2ev2quGBt"
   },
   "outputs": [],
   "source": [
    "# for learning rate 0.3, hidden nodes = 100\n",
    "# performance: 0.9435"
   ]
  },
  {
   "cell_type": "code",
   "execution_count": null,
   "metadata": {
    "id": "ZutVikFEuGBv"
   },
   "outputs": [],
   "source": [
    "# for learning rate 0.1, hidden nodes = 100\n",
    "# performance: 0.9531"
   ]
  },
  {
   "cell_type": "code",
   "execution_count": null,
   "metadata": {
    "id": "xjwKleIeuGBw"
   },
   "outputs": [],
   "source": [
    "# for learning rate 0.1, hidden nodes = 200, epochs = 5\n",
    "# performance: 0.9723"
   ]
  },
  {
   "cell_type": "markdown",
   "metadata": {},
   "source": [
    "## Tesing by using my own handwriting "
   ]
  },
  {
   "cell_type": "markdown",
   "metadata": {},
   "source": [
    "These digits were created by Windows default Paint tool."
   ]
  },
  {
   "cell_type": "code",
   "execution_count": 8,
   "metadata": {
    "id": "qISmEhLYuGBx"
   },
   "outputs": [],
   "source": [
    "import imageio"
   ]
  },
  {
   "cell_type": "code",
   "execution_count": null,
   "metadata": {},
   "outputs": [],
   "source": []
  },
  {
   "cell_type": "code",
   "execution_count": 102,
   "metadata": {
    "id": "yV1gdgK_uGBy",
    "outputId": "7f774b24-cbe5-4aaa-b8ea-0f8b0ce139ae",
    "scrolled": false
   },
   "outputs": [
    {
     "name": "stdout",
     "output_type": "stream",
     "text": [
      "Min:  0.01\n",
      "Max:  1.0\n",
      "[[9.71963096e-01]\n",
      " [2.75967005e-03]\n",
      " [1.37213494e-02]\n",
      " [1.68663942e-03]\n",
      " [2.87580384e-03]\n",
      " [2.91131590e-03]\n",
      " [9.55197257e-04]\n",
      " [2.49119941e-03]\n",
      " [7.26821881e-03]\n",
      " [2.97392354e-03]]\n",
      "\n",
      "\n",
      "Network identified:  0\n"
     ]
    },
    {
     "data": {
      "image/png": "[encoded data removed]",
      "text/plain": [
       "<Figure size 432x288 with 1 Axes>"
      ]
     },
     "metadata": {
      "needs_background": "light"
     },
     "output_type": "display_data"
    }
   ],
   "source": [
    "# test the neural network with our own image\n",
    "\n",
    "# load image data from png file to an array\n",
    "img_array = imageio.imread(\"My digit/0.png\", as_gray = True)\n",
    "\n",
    "# reshape from 28x28 to list of 784 array and invert the values\n",
    "img_data = 255.0 - img_array.reshape(784)\n",
    "\n",
    "# scale the data into 0.01 to 1.0\n",
    "img_data = (img_data / 255 * 0.99) + 0.01\n",
    "print(\"Min: \", numpy.min(img_data))\n",
    "print(\"Max: \", numpy.max(img_data))\n",
    "\n",
    "# plot image \n",
    "matplotlib.pyplot.imshow(img_data.reshape((28,28)), cmap = 'Greys',  interpolation = 'None')\n",
    "\n",
    "# query the network\n",
    "outputs = n.query(img_data)\n",
    "print(outputs)\n",
    "\n",
    "# index to the highest value  corresponds to the lebel \n",
    "label = numpy.argmax(outputs)\n",
    "print('\\n\\nNetwork identified: ', label)"
   ]
  },
  {
   "cell_type": "code",
   "execution_count": null,
   "metadata": {},
   "outputs": [],
   "source": []
  },
  {
   "cell_type": "code",
   "execution_count": 93,
   "metadata": {},
   "outputs": [],
   "source": [
    "# This function will take image file path and check the digit\n",
    "\n",
    "\n",
    "def check(image_path):\n",
    "    img_array = imageio.imread(image_path, as_gray=True)\n",
    "    img_data  = 255.0 - img_array.reshape(784)\n",
    "    img_data = (img_data / 255.0 * 0.99) + 0.01\n",
    "    matplotlib.pyplot.imshow(img_data.reshape(28,28), cmap='Greys', interpolation='None')\n",
    "    outputs = n.query(img_data)\n",
    "    label = numpy.argmax(outputs)\n",
    "    print('Network identified the digit as ', label)\n",
    "    "
   ]
  },
  {
   "cell_type": "code",
   "execution_count": 94,
   "metadata": {},
   "outputs": [
    {
     "name": "stdout",
     "output_type": "stream",
     "text": [
      "Network identified the digit as  0\n"
     ]
    },
    {
     "data": {
      "image/png": "[encoded data removed]",
      "text/plain": [
       "<Figure size 432x288 with 1 Axes>"
      ]
     },
     "metadata": {
      "needs_background": "light"
     },
     "output_type": "display_data"
    }
   ],
   "source": [
    "check('My digit/0.png')"
   ]
  },
  {
   "cell_type": "code",
   "execution_count": 77,
   "metadata": {},
   "outputs": [
    {
     "name": "stdout",
     "output_type": "stream",
     "text": [
      "Network identified the digit as  1\n"
     ]
    },
    {
     "data": {
      "image/png": "[encoded data removed]",
      "text/plain": [
       "<Figure size 432x288 with 1 Axes>"
      ]
     },
     "metadata": {
      "needs_background": "light"
     },
     "output_type": "display_data"
    }
   ],
   "source": [
    "check('My digit/1.png')"
   ]
  },
  {
   "cell_type": "code",
   "execution_count": 78,
   "metadata": {},
   "outputs": [
    {
     "name": "stdout",
     "output_type": "stream",
     "text": [
      "Network identified the digit as  2\n"
     ]
    },
    {
     "data": {
      "image/png": "[encoded data removed]",
      "text/plain": [
       "<Figure size 432x288 with 1 Axes>"
      ]
     },
     "metadata": {
      "needs_background": "light"
     },
     "output_type": "display_data"
    }
   ],
   "source": [
    "check('My digit/2.png')"
   ]
  },
  {
   "cell_type": "code",
   "execution_count": 79,
   "metadata": {},
   "outputs": [
    {
     "name": "stdout",
     "output_type": "stream",
     "text": [
      "Network identified the digit as  3\n"
     ]
    },
    {
     "data": {
      "image/png": "[encoded data removed]",
      "text/plain": [
       "<Figure size 432x288 with 1 Axes>"
      ]
     },
     "metadata": {
      "needs_background": "light"
     },
     "output_type": "display_data"
    }
   ],
   "source": [
    "check('My digit/3.png')"
   ]
  },
  {
   "cell_type": "code",
   "execution_count": 80,
   "metadata": {},
   "outputs": [
    {
     "name": "stdout",
     "output_type": "stream",
     "text": [
      "Network identified the digit as  4\n"
     ]
    },
    {
     "data": {
      "image/png": "[encoded data removed]",
      "text/plain": [
       "<Figure size 432x288 with 1 Axes>"
      ]
     },
     "metadata": {
      "needs_background": "light"
     },
     "output_type": "display_data"
    }
   ],
   "source": [
    "check('My digit/4.png')"
   ]
  },
  {
   "cell_type": "code",
   "execution_count": 81,
   "metadata": {},
   "outputs": [
    {
     "name": "stdout",
     "output_type": "stream",
     "text": [
      "Network identified the digit as  5\n"
     ]
    },
    {
     "data": {
      "image/png": "[encoded data removed]",
      "text/plain": [
       "<Figure size 432x288 with 1 Axes>"
      ]
     },
     "metadata": {
      "needs_background": "light"
     },
     "output_type": "display_data"
    }
   ],
   "source": [
    "check('My digit/5.png')"
   ]
  },
  {
   "cell_type": "code",
   "execution_count": 82,
   "metadata": {},
   "outputs": [
    {
     "name": "stdout",
     "output_type": "stream",
     "text": [
      "Network identified the digit as  6\n"
     ]
    },
    {
     "data": {
      "image/png": "[encoded data removed]",
      "text/plain": [
       "<Figure size 432x288 with 1 Axes>"
      ]
     },
     "metadata": {
      "needs_background": "light"
     },
     "output_type": "display_data"
    }
   ],
   "source": [
    "check('My digit/6.png')"
   ]
  },
  {
   "cell_type": "code",
   "execution_count": 83,
   "metadata": {},
   "outputs": [
    {
     "name": "stdout",
     "output_type": "stream",
     "text": [
      "Network identified the digit as  7\n"
     ]
    },
    {
     "data": {
      "image/png": "[encoded data removed]",
      "text/plain": [
       "<Figure size 432x288 with 1 Axes>"
      ]
     },
     "metadata": {
      "needs_background": "light"
     },
     "output_type": "display_data"
    }
   ],
   "source": [
    "check('My digit/7.png')"
   ]
  },
  {
   "cell_type": "code",
   "execution_count": 84,
   "metadata": {},
   "outputs": [
    {
     "name": "stdout",
     "output_type": "stream",
     "text": [
      "Network identified the digit as  8\n"
     ]
    },
    {
     "data": {
      "image/png": "[encoded data removed]",
      "text/plain": [
       "<Figure size 432x288 with 1 Axes>"
      ]
     },
     "metadata": {
      "needs_background": "light"
     },
     "output_type": "display_data"
    }
   ],
   "source": [
    "check('My digit/8.png')"
   ]
  },
  {
   "cell_type": "code",
   "execution_count": 85,
   "metadata": {},
   "outputs": [
    {
     "name": "stdout",
     "output_type": "stream",
     "text": [
      "Network identified the digit as  8\n"
     ]
    },
    {
     "data": {
      "image/png": "[encoded data removed]",
      "text/plain": [
       "<Figure size 432x288 with 1 Axes>"
      ]
     },
     "metadata": {
      "needs_background": "light"
     },
     "output_type": "display_data"
    }
   ],
   "source": [
    "check('My digit/9.png')"
   ]
  },
  {
   "cell_type": "code",
   "execution_count": null,
   "metadata": {},
   "outputs": [],
   "source": []
  },
  {
   "cell_type": "code",
   "execution_count": null,
   "metadata": {},
   "outputs": [],
   "source": []
  }
 ],
 "metadata": {
  "colab": {
   "name": "NN 1.ipynb",
   "provenance": []
  },
  "kernelspec": {
   "display_name": "Python 3",
   "language": "python",
   "name": "python3"
  },
  "language_info": {
   "codemirror_mode": {
    "name": "ipython",
    "version": 3
   },
   "file_extension": ".py",
   "mimetype": "text/x-python",
   "name": "python",
   "nbconvert_exporter": "python",
   "pygments_lexer": "ipython3",
   "version": "3.8.5"
  }
 },
 "nbformat": 4,
 "nbformat_minor": 1
}
